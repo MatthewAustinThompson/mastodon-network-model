{
 "cells": [
  {
   "cell_type": "markdown",
   "metadata": {},
   "source": [
    "# Creating Network Model of Mastodon "
   ]
  },
  {
   "cell_type": "markdown",
   "metadata": {},
   "source": [
    "**Questions:**\n",
    "- Can user be a part of instance without any edges? Done via node label. If not, makes assumption that all users who join an instance immediately follow someone within that instance. Making this assumption allows for more clear visualizations because a node \"in\" an instance whose first edge is outside that instance will be positioned within a that outside instance rather than it's own"
   ]
  },
  {
   "cell_type": "markdown",
   "metadata": {},
   "source": [
    "**Goal Network Dynamics:** <br>\n",
    "Scale free (Barabos?), aka power law, within an instance, small world-like probability of rewiring an edge to ANY node w/ scale free probability"
   ]
  },
  {
   "cell_type": "markdown",
   "metadata": {},
   "source": [
    "**Overview of Possible Steps:** <br>\n",
    "Start with **set number of instances (currently trying this approach)** or just 1 node and add instances during simulation? For each time step: \n",
    "- Add a node\n",
    "- Determine which \"instance\" node should be in using rich-get-richer dynamics\n",
    "- Pick One: **Create edge to node within that instance  (currently trying this approach)**; or just label node as part of that instance\n",
    "- Select a random node\n",
    "- Use small-world probability to determine whether that node creates edge to another node within instance or outside of instance\n",
    "- Randomly determine edge target, considering either population of nodes within instance or population of nodes outside instance"
   ]
  },
  {
   "cell_type": "markdown",
   "metadata": {},
   "source": [
    "## Import Packages"
   ]
  },
  {
   "cell_type": "code",
   "execution_count": 1,
   "metadata": {},
   "outputs": [],
   "source": [
    "import networkx as nx\n",
    "import numpy as np\n",
    "import plotly.graph_objects as go\n",
    "from itertools import count"
   ]
  },
  {
   "cell_type": "markdown",
   "metadata": {},
   "source": [
    "## Set Plotly Options"
   ]
  },
  {
   "cell_type": "code",
   "execution_count": 16,
   "metadata": {},
   "outputs": [],
   "source": [
    "def do_plotly(G, pos=None):\n",
    "    # Default Network Layout\n",
    "    if pos == None:\n",
    "        pos=nx.fruchterman_reingold_layout(G)\n",
    "\n",
    "        \n",
    "    # Create Edges\n",
    "    edge_x = []\n",
    "    edge_y = []\n",
    "    for edge in G.edges():\n",
    "        # x0, y0 = G.nodes[edge[0]]['pos']\n",
    "        x0, y0 = pos[edge[0]]\n",
    "        x1, y1 = pos[edge[1]]\n",
    "        edge_x.append(x0)\n",
    "        edge_x.append(x1)\n",
    "        edge_x.append(None)\n",
    "        edge_y.append(y0)\n",
    "        edge_y.append(y1)\n",
    "        edge_y.append(None)\n",
    "\n",
    "    edge_trace = go.Scatter(\n",
    "        x=edge_x, y=edge_y,\n",
    "        line=dict(width=0.5, color='#888'),\n",
    "        hoverinfo='none',\n",
    "        mode='lines')\n",
    "\n",
    "    node_x = []\n",
    "    node_y = []\n",
    "    for node in G.nodes():\n",
    "        # x, y = G.nodes[node]['pos']\n",
    "        x, y = pos[node]\n",
    "        node_x.append(x)\n",
    "        node_y.append(y)\n",
    "\n",
    "    node_trace = go.Scatter(\n",
    "        x=node_x, y=node_y,\n",
    "        mode='markers',\n",
    "        hoverinfo='text',\n",
    "        marker=dict(\n",
    "            showscale=True,\n",
    "            # Colorscale options\n",
    "            # 'Greys' | 'YlGnBu' | 'Greens' | 'YlOrRd' | 'Bluered' | 'RdBu' |\n",
    "            # 'Reds' | 'Blues' | 'Picnic' | 'Rainbow' | 'Portland' | 'Jet' |\n",
    "            # 'Hot' | 'Blackbody' | 'Earth' | 'Electric' | 'Viridis' |\n",
    "            colorscale='YlGnBu',\n",
    "            reversescale=True,\n",
    "            color=[],\n",
    "            size=10,\n",
    "            colorbar=dict(\n",
    "                thickness=15,\n",
    "                title='Node Connections',\n",
    "                xanchor='left',\n",
    "                titleside='right'\n",
    "            ),\n",
    "            line_width=2))\n",
    "\n",
    "    \n",
    "    # Color Node Point\n",
    "    node_adjacencies = []\n",
    "    node_text = []\n",
    "    for node, adjacencies in enumerate(G.adjacency()):\n",
    "        node_adjacencies.append(len(adjacencies[1]))\n",
    "        node_text.append('label: '+str(node)+'# of connections: '+str(len(adjacencies[1])))\n",
    "\n",
    "    node_trace.marker.color = node_adjacencies\n",
    "    node_trace.text = node_text\n",
    "\n",
    "    \n",
    "    # Create Network Graph\n",
    "    fig = go.Figure(data=[edge_trace, node_trace],\n",
    "                layout=go.Layout(\n",
    "                    title='<br>Network graph made with Python',\n",
    "                    titlefont_size=16,\n",
    "                    showlegend=False,\n",
    "                    hovermode='closest',\n",
    "                    margin=dict(b=20,l=5,r=5,t=40),\n",
    "                    annotations=[ dict(\n",
    "                        text=\"Python code: <a href='https://plotly.com/ipython-notebooks/network-graphs/'> https://plotly.com/ipython-notebooks/network-graphs/</a>\",\n",
    "                        showarrow=False,\n",
    "                        xref=\"paper\", yref=\"paper\",\n",
    "                        x=0.005, y=-0.002 ) ],\n",
    "                    xaxis=dict(showgrid=False, zeroline=False, showticklabels=False),\n",
    "                    yaxis=dict(showgrid=False, zeroline=False, showticklabels=False))\n",
    "                )\n",
    "    fig.show()"
   ]
  },
  {
   "cell_type": "markdown",
   "metadata": {},
   "source": [
    "## Define Function to Select Instance to Create Node Within "
   ]
  },
  {
   "cell_type": "code",
   "execution_count": 74,
   "metadata": {},
   "outputs": [],
   "source": [
    "def preferential_attachment(G, stubs, instances, p): \n",
    "    # ADDING NODE\n",
    "    # Add new node\n",
    "    new_node = G.number_of_nodes()\n",
    "    G.add_node(new_node)\n",
    "    \n",
    "    # Determine which instance to add to\n",
    "    # Randomly choose from list of instances\n",
    "#     chosen_instance = np.random.choice(list(instances.keys()))\n",
    "    # OR\n",
    "    # Randomly select node and choose the instance that node is in \n",
    "    chosen_instance = G.nodes[np.random.choice(stubs)]['instance']\n",
    "    \n",
    "    # Select random node within instance to create edge to\n",
    "    neighbor = np.random.choice(instances[chosen_instance])\n",
    "    \n",
    "    # Add edge\n",
    "    G.add_edge(new_node, neighbor)\n",
    "    \n",
    "    # Update attributes and history \n",
    "    G.nodes[new_node]['state'] = 1\n",
    "    G.nodes[neighbor]['state'] += 1\n",
    "    G.nodes[new_node]['instance'] = chosen_instance\n",
    "    instances[chosen_instance].append(new_node)\n",
    "    stubs.append(new_node)\n",
    "    stubs.append(neighbor)\n",
    "    \n",
    "    \n",
    "    # REWIRING\n",
    "    # Select random node to make edge from\n",
    "    rand_node = np.random.choice(stubs)\n",
    "    rand_node_instance = G.nodes[rand_node]['instance']\n",
    "    \n",
    "    # If probability met, attach to random node in external instance, else, \n",
    "    # attach inside current instance\n",
    "    possible_nodes = []\n",
    "    rand_num = np.random.uniform(0, 1)\n",
    "    if rand_num <= p:\n",
    "        external_instances = list(instances.keys())\n",
    "        external_instances.remove(rand_node_instance)\n",
    "        for i in range(0, len(external_instances)):\n",
    "            for j in range(0, len(instances[external_instances[i]])):\n",
    "                possible_nodes.append(instances[external_instances[i]][j])\n",
    "        neighbor = np.random.choice(possible_nodes)\n",
    "    else:\n",
    "        neighbor = np.random.choice(instances[rand_node_instance])\n",
    "        \n",
    "    # Add edge\n",
    "    G.add_edge(rand_node, neighbor)\n",
    "    \n",
    "    # Update attributes and history \n",
    "    G.nodes[rand_node]['state'] += 1\n",
    "    G.nodes[neighbor]['state'] += 1\n",
    "    stubs.append(rand_node)\n",
    "    stubs.append(neighbor)\n",
    "    \n",
    "    \n",
    "    return(G, stubs, instances)"
   ]
  },
  {
   "cell_type": "code",
   "execution_count": 99,
   "metadata": {},
   "outputs": [
    {
     "data": {
      "image/png": "[encoded data removed]",
      "text/plain": [
       "<Figure size 432x288 with 1 Axes>"
      ]
     },
     "metadata": {},
     "output_type": "display_data"
    }
   ],
   "source": [
    "G = nx.Graph()\n",
    "stubs = []\n",
    "num_instances = 5\n",
    "instances = {}\n",
    "p = 0.05\n",
    "\n",
    "# Creates new instances with one node each\n",
    "for i in range(0, num_instances):\n",
    "    # Adds node to instance\n",
    "    G.add_node(i)\n",
    "    \n",
    "    # Adds node to history list\n",
    "    stubs.append(i)\n",
    "    \n",
    "    # Adds attribute to keep track of degrees of node\n",
    "    G.nodes[i]['state'] = 0\n",
    "\n",
    "    # Adds attribute that keeps track of which instance node is in\n",
    "    G.nodes[i]['instance'] = i\n",
    "    \n",
    "    # Adds new node to dictionary for instances\n",
    "    instances[i] = [i]\n",
    "\n",
    "# Finds which instance each node is in\n",
    "# nodes_instance = nx.get_node_attributes(G, 'instance')\n",
    "\n",
    "# Run simulation\n",
    "for step in range(100):\n",
    "    (G, stubs, instances) = preferential_attachment(G, stubs, instances, p)\n",
    "\n",
    "# Map colors\n",
    "groups = set(nx.get_node_attributes(G, 'instance').values())\n",
    "# groups = set(nx.get_node_attributes(G, 'state').values())\n",
    "mapping = dict(zip(sorted(groups), count()))\n",
    "colors = [mapping[G.nodes[n]['instance']] for n in G.nodes()]\n",
    "\n",
    "# Display network\n",
    "nx.draw(G, with_labels=False, node_size=200, pos=nx.fruchterman_reingold_layout(G), node_color=colors)"
   ]
  },
  {
   "cell_type": "code",
   "execution_count": 100,
   "metadata": {},
   "outputs": [
    {
     "data": {
      "application/vnd.plotly.v1+json": {
       "config": {
        "plotlyServerURL": "https://plot.ly"
       },
       "data": [
        {
         "hoverinfo": "none",
         "line": {
          "color": "#888",
          "width": 0.5
         },
         "mode": "lines",
         "type": "scatter",
         "x": [
          0.20798101873201394,
          0.23706934569376462,
          null,
          0.20798101873201394,
          0.31088281555835223,
          null,
          0.20798101873201394,
          0.10871897191045679,
          null,
          0.20798101873201394,
          0.20798101873201394,
          null,
          0.20798101873201394,
          0.18582634393522993,
          null,
          -0.4124192986126689,
          -0.4124192986126689,
          null,
          -0.4124192986126689,
          -0.14654104390555323,
          null,
          -0.4124192986126689,
          -0.5495284800087695,
          null,
          -0.4124192986126689,
          -0.6027680558888138,
          null,
          -0.4124192986126689,
          -0.5037243933560956,
          null,
          -0.7048195544405058,
          -0.5386744559243583,
          null,
          -0.7048195544405058,
          -0.7048195544405058,
          null,
          -0.7048195544405058,
          -0.8245719592610832,
          null,
          -0.7048195544405058,
          -0.6540750532924013,
          null,
          0.19539068210735816,
          0.19539068210735816,
          null,
          0.19539068210735816,
          0.38654997421727116,
          null,
          0.19539068210735816,
          -0.048170275445117545,
          null,
          0.19539068210735816,
          0.27320338665116,
          null,
          0.19539068210735816,
          0.3115077569112719,
          null,
          -0.0426665800692302,
          -0.14654104390555323,
          null,
          -0.0426665800692302,
          -0.0426665800692302,
          null,
          -0.0426665800692302,
          -0.015665474897773563,
          null,
          -0.0426665800692302,
          -0.09803916402613663,
          null,
          -0.0426665800692302,
          0.0825063232688995,
          null,
          -0.0426665800692302,
          -0.07045352041622101,
          null,
          -0.0426665800692302,
          -0.09615857830732892,
          null,
          -0.0426665800692302,
          -0.0602922610045302,
          null,
          -0.14654104390555323,
          -0.14654104390555323,
          null,
          -0.14654104390555323,
          -0.2025172881568958,
          null,
          -0.14654104390555323,
          -0.0816730330093642,
          null,
          -0.14654104390555323,
          -0.015665474897773563,
          null,
          -0.14654104390555323,
          -0.19884812947636618,
          null,
          -0.14654104390555323,
          -0.06629473986154137,
          null,
          -0.14654104390555323,
          0.03284325993016791,
          null,
          -0.14654104390555323,
          -0.09803916402613663,
          null,
          -0.14654104390555323,
          -0.0983247723891648,
          null,
          0.23706934569376462,
          0.3121596823302963,
          null,
          0.23706934569376462,
          0.10871897191045679,
          null,
          0.23706934569376462,
          0.18582634393522993,
          null,
          0.23706934569376462,
          0.2372487392703683,
          null,
          0.23706934569376462,
          0.31088281555835223,
          null,
          0.23706934569376462,
          0.2887654472363952,
          null,
          -0.2025172881568958,
          -0.09803916402613663,
          null,
          -0.2025172881568958,
          -0.19884812947636618,
          null,
          -0.2025172881568958,
          -0.14261277801836478,
          null,
          -0.2025172881568958,
          -0.06629473986154137,
          null,
          -0.2025172881568958,
          -0.32504214678788185,
          null,
          -0.2025172881568958,
          -0.3301356858203611,
          null,
          -0.2025172881568958,
          -0.22151202789235816,
          null,
          -0.2025172881568958,
          -0.1494689821816561,
          null,
          -0.0816730330093642,
          -0.1743275467305384,
          null,
          -0.0816730330093642,
          0.04305753989023742,
          null,
          -0.0816730330093642,
          -0.19884812947636618,
          null,
          -0.0816730330093642,
          0.03284325993016791,
          null,
          -0.015665474897773563,
          -0.048170275445117545,
          null,
          -0.015665474897773563,
          0.11776022274666312,
          null,
          -0.015665474897773563,
          -0.12907744222799936,
          null,
          -0.015665474897773563,
          0.03284325993016791,
          null,
          -0.048170275445117545,
          -0.22151202789235816,
          null,
          -0.048170275445117545,
          -0.17034680661378224,
          null,
          -0.048170275445117545,
          -0.1743275467305384,
          null,
          -0.048170275445117545,
          0.03284325993016791,
          null,
          -0.048170275445117545,
          -0.27947496911305153,
          null,
          -0.048170275445117545,
          0.028747033591675165,
          null,
          -0.048170275445117545,
          0.038720092868684546,
          null,
          -0.5386744559243583,
          -0.6540750532924013,
          null,
          -0.5386744559243583,
          -0.6547645032879799,
          null,
          -0.5386744559243583,
          -0.5386744559243583,
          null,
          -0.5386744559243583,
          -0.27947496911305153,
          null,
          -0.09803916402613663,
          -0.06629473986154137,
          null,
          -0.09803916402613663,
          -0.013587661582829931,
          null,
          -0.1743275467305384,
          -0.23878828974574895,
          null,
          -0.1743275467305384,
          -0.30075847996075844,
          null,
          -0.22151202789235816,
          -0.17034680661378224,
          null,
          -0.22151202789235816,
          -0.3560360707788275,
          null,
          -0.22151202789235816,
          -0.19884812947636618,
          null,
          -0.22151202789235816,
          -0.319560013783824,
          null,
          0.3121596823302963,
          0.2887654472363952,
          null,
          0.3121596823302963,
          0.3180641800753631,
          null,
          0.31088281555835223,
          0.4034753581851208,
          null,
          0.31088281555835223,
          0.2887654472363952,
          null,
          0.31088281555835223,
          0.34647716564376824,
          null,
          0.31088281555835223,
          0.39008521744525204,
          null,
          0.38654997421727116,
          0.5084823734718775,
          null,
          0.38654997421727116,
          0.4034914935411667,
          null,
          0.38654997421727116,
          0.49682883620948565,
          null,
          0.38654997421727116,
          0.3115077569112719,
          null,
          0.38654997421727116,
          0.47322746647785247,
          null,
          -0.19884812947636618,
          -0.20392999760783823,
          null,
          -0.19884812947636618,
          -0.30075847996075844,
          null,
          -0.19884812947636618,
          -0.12907744222799936,
          null,
          -0.19884812947636618,
          -0.20648764296776825,
          null,
          -0.19884812947636618,
          -0.25249829972245635,
          null,
          0.10871897191045679,
          -0.057000315373923395,
          null,
          0.10871897191045679,
          0.18582634393522993,
          null,
          -0.06629473986154137,
          0.03284325993016791,
          null,
          -0.06629473986154137,
          -0.14261277801836478,
          null,
          -0.06629473986154137,
          -0.1494689821816561,
          null,
          -0.06629473986154137,
          -0.013587661582829931,
          null,
          -0.06629473986154137,
          -0.023047419262504885,
          null,
          -0.06629473986154137,
          0.04305753989023742,
          null,
          0.11776022274666312,
          0.20359262564409425,
          null,
          -0.17034680661378224,
          -0.14261277801836478,
          null,
          -0.17034680661378224,
          -0.12907744222799936,
          null,
          -0.17034680661378224,
          -0.23878828974574895,
          null,
          -0.20392999760783823,
          -0.32504214678788185,
          null,
          -0.20392999760783823,
          -0.0602922610045302,
          null,
          -0.20392999760783823,
          -0.28225977885686215,
          null,
          -0.20392999760783823,
          -0.12907744222799936,
          null,
          0.0825063232688995,
          0.08437856092682489,
          null,
          0.0825063232688995,
          0.22058171574304108,
          null,
          0.0825063232688995,
          -0.013587661582829931,
          null,
          0.0825063232688995,
          0.0018899766466364946,
          null,
          -0.30075847996075844,
          -0.4282706025070119,
          null,
          -0.5495284800087695,
          -0.6027680558888138,
          null,
          -0.5495284800087695,
          -0.6394474176318486,
          null,
          -0.14261277801836478,
          -0.013587661582829931,
          null,
          -0.14261277801836478,
          -0.1491632213553842,
          null,
          -0.14261277801836478,
          -0.21778389132860257,
          null,
          0.2887654472363952,
          0.27233999774729356,
          null,
          -0.12907744222799936,
          -0.27947496911305153,
          null,
          -0.12907744222799936,
          -0.09615857830732892,
          null,
          -0.12907744222799936,
          0.03284325993016791,
          null,
          0.03284325993016791,
          0.03284325993016791,
          null,
          0.03284325993016791,
          0.22058171574304108,
          null,
          0.03284325993016791,
          0.10099685328810762,
          null,
          0.03284325993016791,
          0.20359262564409425,
          null,
          -0.057000315373923395,
          -0.1951854304679918,
          null,
          -0.057000315373923395,
          0.0490650598043601,
          null,
          -0.057000315373923395,
          -0.11482191335906161,
          null,
          0.3180641800753631,
          0.40583535835691614,
          null,
          0.3180641800753631,
          0.18582634393522993,
          null,
          0.08437856092682489,
          -0.013587661582829931,
          null,
          0.5084823734718775,
          0.5854566237292151,
          null,
          0.5084823734718775,
          0.5084823734718775,
          null,
          0.5084823734718775,
          0.4034914935411667,
          null,
          0.5084823734718775,
          0.6137254970197535,
          null,
          0.22058171574304108,
          0.40148077077631983,
          null,
          0.22058171574304108,
          0.3357468726344626,
          null,
          -0.013587661582829931,
          -0.0602922610045302,
          null,
          0.20359262564409425,
          0.3563312274131548,
          null,
          0.40583535835691614,
          0.4844067806903,
          null,
          0.18582634393522993,
          0.2372487392703683,
          null,
          0.18582634393522993,
          0.0490650598043601,
          null,
          -0.1951854304679918,
          -0.28011229734108345,
          null,
          -0.07045352041622101,
          -0.09615857830732892,
          null,
          0.27233999774729356,
          0.26834092377886204,
          null,
          0.04305753989023742,
          0.1693620390727424,
          null,
          0.4034914935411667,
          0.4434197978268344,
          null,
          0.4034914935411667,
          0.3115077569112719,
          null,
          0.4034914935411667,
          0.30639267348716553,
          null,
          0.4434197978268344,
          0.3610852656022159,
          null,
          0.4434197978268344,
          0.5019707187439623,
          null,
          0.0018899766466364946,
          -0.005736920165852203,
          null,
          0.0018899766466364946,
          -0.0983247723891648,
          null,
          0.2372487392703683,
          0.23334235113295662,
          null,
          -0.32504214678788185,
          -0.4576275424028246,
          null,
          -0.6027680558888138,
          -0.710755910114834,
          null,
          -0.6027680558888138,
          -0.7259513763938223,
          null,
          -0.0602922610045302,
          0.028747033591675165,
          null,
          0.3115077569112719,
          0.2766903440737011,
          null,
          0.3610852656022159,
          0.27320338665116,
          null,
          0.30639267348716553,
          0.21431470323973104,
          null,
          0.10099685328810762,
          0.14201980165198255,
          null,
          -0.0983247723891648,
          -0.1491632213553842,
          null,
          0.40148077077631983,
          0.5281654906281169,
          null,
          0.3563312274131548,
          0.47179673557664975,
          null
         ],
         "y": [
          -0.7136865536449006,
          -0.6754078533145259,
          null,
          -0.7136865536449006,
          -0.8034305548188951,
          null,
          -0.7136865536449006,
          -0.6741357973701968,
          null,
          -0.7136865536449006,
          -0.7136865536449006,
          null,
          -0.7136865536449006,
          -0.5999092162131757,
          null,
          -0.11716047897582825,
          -0.11716047897582825,
          null,
          -0.11716047897582825,
          0.04994936425477325,
          null,
          -0.11716047897582825,
          -0.22485438848918515,
          null,
          -0.11716047897582825,
          -0.19824625856968306,
          null,
          -0.11716047897582825,
          -0.18099428347058066,
          null,
          0.24879122397868164,
          0.21550390126376182,
          null,
          0.24879122397868164,
          0.24879122397868164,
          null,
          0.24879122397868164,
          0.27281644645296327,
          null,
          0.24879122397868164,
          0.26817358707078165,
          null,
          0.4302370610293883,
          0.4302370610293883,
          null,
          0.4302370610293883,
          0.547384846322291,
          null,
          0.4302370610293883,
          0.20023128381267546,
          null,
          0.4302370610293883,
          0.5798252278370855,
          null,
          0.4302370610293883,
          0.5510140164708397,
          null,
          0.16139328105846312,
          0.04994936425477325,
          null,
          0.16139328105846312,
          0.16139328105846312,
          null,
          0.16139328105846312,
          0.07260319671663489,
          null,
          0.16139328105846312,
          0.12894963580853946,
          null,
          0.16139328105846312,
          0.22966893799655136,
          null,
          0.16139328105846312,
          0.2799676300589828,
          null,
          0.16139328105846312,
          0.20594194665734158,
          null,
          0.16139328105846312,
          0.11139448699350728,
          null,
          0.04994936425477325,
          0.04994936425477325,
          null,
          0.04994936425477325,
          0.10422686495590343,
          null,
          0.04994936425477325,
          0.02058135781017936,
          null,
          0.04994936425477325,
          0.07260319671663489,
          null,
          0.04994936425477325,
          -0.008909172563569942,
          null,
          0.04994936425477325,
          0.08089454502481182,
          null,
          0.04994936425477325,
          0.045738973111347274,
          null,
          0.04994936425477325,
          0.12894963580853946,
          null,
          0.04994936425477325,
          0.24918027767831627,
          null,
          -0.6754078533145259,
          -0.6296647884839743,
          null,
          -0.6754078533145259,
          -0.6741357973701968,
          null,
          -0.6754078533145259,
          -0.5999092162131757,
          null,
          -0.6754078533145259,
          -0.5573211165891852,
          null,
          -0.6754078533145259,
          -0.8034305548188951,
          null,
          -0.6754078533145259,
          -0.7578437418023092,
          null,
          0.10422686495590343,
          0.12894963580853946,
          null,
          0.10422686495590343,
          -0.008909172563569942,
          null,
          0.10422686495590343,
          0.22359931712491468,
          null,
          0.10422686495590343,
          0.08089454502481182,
          null,
          0.10422686495590343,
          0.04955887092928985,
          null,
          0.10422686495590343,
          0.17363389894175474,
          null,
          0.10422686495590343,
          0.08147110927574724,
          null,
          0.10422686495590343,
          0.10163788595080787,
          null,
          0.02058135781017936,
          0.13348222233412987,
          null,
          0.02058135781017936,
          -0.0006141273975179129,
          null,
          0.02058135781017936,
          -0.008909172563569942,
          null,
          0.02058135781017936,
          0.045738973111347274,
          null,
          0.07260319671663489,
          0.20023128381267546,
          null,
          0.07260319671663489,
          -0.014747939962111578,
          null,
          0.07260319671663489,
          0.09067425867829693,
          null,
          0.07260319671663489,
          0.045738973111347274,
          null,
          0.20023128381267546,
          0.08147110927574724,
          null,
          0.20023128381267546,
          0.17741716089363116,
          null,
          0.20023128381267546,
          0.13348222233412987,
          null,
          0.20023128381267546,
          0.045738973111347274,
          null,
          0.20023128381267546,
          0.17916477528039354,
          null,
          0.20023128381267546,
          0.16521760867004442,
          null,
          0.20023128381267546,
          0.26705274534734236,
          null,
          0.21550390126376182,
          0.26817358707078165,
          null,
          0.21550390126376182,
          0.20930588424946914,
          null,
          0.21550390126376182,
          0.21550390126376182,
          null,
          0.21550390126376182,
          0.17916477528039354,
          null,
          0.12894963580853946,
          0.08089454502481182,
          null,
          0.12894963580853946,
          0.19455765231694297,
          null,
          0.13348222233412987,
          0.22424310204727696,
          null,
          0.13348222233412987,
          0.08663414300158546,
          null,
          0.08147110927574724,
          0.17741716089363116,
          null,
          0.08147110927574724,
          0.03507131108098507,
          null,
          0.08147110927574724,
          -0.008909172563569942,
          null,
          0.08147110927574724,
          -0.006736880443729721,
          null,
          -0.6296647884839743,
          -0.7578437418023092,
          null,
          -0.6296647884839743,
          -0.47400231815544375,
          null,
          -0.8034305548188951,
          -0.8501317348803541,
          null,
          -0.8034305548188951,
          -0.7578437418023092,
          null,
          -0.8034305548188951,
          -0.9197503368789876,
          null,
          -0.8034305548188951,
          -0.9020282982670377,
          null,
          0.547384846322291,
          0.5353366458211738,
          null,
          0.547384846322291,
          0.6398570090846579,
          null,
          0.547384846322291,
          0.599407717254181,
          null,
          0.547384846322291,
          0.5510140164708397,
          null,
          0.547384846322291,
          0.6354504255503028,
          null,
          -0.008909172563569942,
          0.021057988839162236,
          null,
          -0.008909172563569942,
          0.08663414300158546,
          null,
          -0.008909172563569942,
          0.09067425867829693,
          null,
          -0.008909172563569942,
          -0.13945545129303702,
          null,
          -0.008909172563569942,
          -0.13460283969900294,
          null,
          -0.6741357973701968,
          -0.7083583668541547,
          null,
          -0.6741357973701968,
          -0.5999092162131757,
          null,
          0.08089454502481182,
          0.045738973111347274,
          null,
          0.08089454502481182,
          0.22359931712491468,
          null,
          0.08089454502481182,
          0.10163788595080787,
          null,
          0.08089454502481182,
          0.19455765231694297,
          null,
          0.08089454502481182,
          -0.039918143292409725,
          null,
          0.08089454502481182,
          -0.0006141273975179129,
          null,
          -0.014747939962111578,
          -0.06842376425797081,
          null,
          0.17741716089363116,
          0.22359931712491468,
          null,
          0.17741716089363116,
          0.09067425867829693,
          null,
          0.17741716089363116,
          0.22424310204727696,
          null,
          0.021057988839162236,
          0.04955887092928985,
          null,
          0.021057988839162236,
          0.11139448699350728,
          null,
          0.021057988839162236,
          -0.0813109974899259,
          null,
          0.021057988839162236,
          0.09067425867829693,
          null,
          0.22966893799655136,
          0.28394524967378115,
          null,
          0.22966893799655136,
          0.1362658038578687,
          null,
          0.22966893799655136,
          0.19455765231694297,
          null,
          0.22966893799655136,
          0.360016293573004,
          null,
          0.08663414300158546,
          0.1233868886994213,
          null,
          -0.22485438848918515,
          -0.19824625856968306,
          null,
          -0.22485438848918515,
          -0.3140393141004004,
          null,
          0.22359931712491468,
          0.19455765231694297,
          null,
          0.22359931712491468,
          0.33143298854682607,
          null,
          0.22359931712491468,
          0.3513664023306426,
          null,
          -0.7578437418023092,
          -0.8945463820836596,
          null,
          0.09067425867829693,
          0.17916477528039354,
          null,
          0.09067425867829693,
          0.20594194665734158,
          null,
          0.09067425867829693,
          0.045738973111347274,
          null,
          0.045738973111347274,
          0.045738973111347274,
          null,
          0.045738973111347274,
          0.1362658038578687,
          null,
          0.045738973111347274,
          -0.10806135427192609,
          null,
          0.045738973111347274,
          -0.06842376425797081,
          null,
          -0.7083583668541547,
          -0.775309697150487,
          null,
          -0.7083583668541547,
          -0.6547708134786013,
          null,
          -0.7083583668541547,
          -0.7924871683950594,
          null,
          -0.47400231815544375,
          -0.2788561372510291,
          null,
          -0.47400231815544375,
          -0.5999092162131757,
          null,
          0.28394524967378115,
          0.19455765231694297,
          null,
          0.5353366458211738,
          0.4521700078715138,
          null,
          0.5353366458211738,
          0.5353366458211738,
          null,
          0.5353366458211738,
          0.6398570090846579,
          null,
          0.5353366458211738,
          0.49221884231941615,
          null,
          0.1362658038578687,
          0.13651584741457765,
          null,
          0.1362658038578687,
          0.15628922603138037,
          null,
          0.19455765231694297,
          0.11139448699350728,
          null,
          -0.06842376425797081,
          -0.16426768913113918,
          null,
          -0.2788561372510291,
          -0.15116585684392717,
          null,
          -0.5999092162131757,
          -0.5573211165891852,
          null,
          -0.5999092162131757,
          -0.6547708134786013,
          null,
          -0.775309697150487,
          -0.8473072833809326,
          null,
          0.2799676300589828,
          0.20594194665734158,
          null,
          -0.8945463820836596,
          -0.9999999999999999,
          null,
          -0.0006141273975179129,
          -0.025552974413830754,
          null,
          0.6398570090846579,
          0.7663726039400931,
          null,
          0.6398570090846579,
          0.5510140164708397,
          null,
          0.6398570090846579,
          0.7329177959766386,
          null,
          0.7663726039400931,
          0.7003611849124541,
          null,
          0.7663726039400931,
          0.8668466499383012,
          null,
          0.360016293573004,
          0.4912944207634386,
          null,
          0.360016293573004,
          0.24918027767831627,
          null,
          -0.5573211165891852,
          -0.42159702256761133,
          null,
          0.04955887092928985,
          0.03576135368696752,
          null,
          -0.19824625856968306,
          -0.2641824444944791,
          null,
          -0.19824625856968306,
          -0.21756770540916776,
          null,
          0.11139448699350728,
          0.16521760867004442,
          null,
          0.5510140164708397,
          0.6278238785425061,
          null,
          0.7003611849124541,
          0.5798252278370855,
          null,
          0.7329177959766386,
          0.7794958138605158,
          null,
          -0.10806135427192609,
          -0.2199938823765482,
          null,
          0.24918027767831627,
          0.33143298854682607,
          null,
          0.13651584741457765,
          0.13778074476663285,
          null,
          -0.16426768913113918,
          -0.2292106932153983,
          null
         ]
        },
        {
         "hoverinfo": "text",
         "marker": {
          "color": [
           5,
           5,
           4,
           5,
           8,
           11,
           7,
           9,
           5,
           6,
           9,
           5,
           5,
           4,
           6,
           3,
           6,
           6,
           9,
           4,
           9,
           2,
           5,
           5,
           5,
           3,
           3,
           6,
           2,
           4,
           2,
           7,
           10,
           1,
           4,
           3,
           2,
           5,
           3,
           4,
           2,
           6,
           3,
           2,
           6,
           2,
           2,
           1,
           2,
           3,
           5,
           2,
           3,
           3,
           3,
           3,
           3,
           1,
           1,
           1,
           4,
           4,
           4,
           1,
           1,
           1,
           1,
           2,
           1,
           2,
           1,
           1,
           1,
           2,
           2,
           1,
           1,
           2,
           1,
           1,
           3,
           1,
           1,
           1,
           1,
           2,
           2,
           1,
           1,
           2,
           1,
           1,
           1,
           1,
           1,
           1,
           1,
           1,
           1,
           1,
           1,
           1,
           1,
           1,
           1
          ],
          "colorbar": {
           "thickness": 15,
           "title": {
            "side": "right",
            "text": "Node Connections"
           },
           "xanchor": "left"
          },
          "colorscale": [
           [
            0,
            "rgb(255,255,217)"
           ],
           [
            0.125,
            "rgb(237,248,177)"
           ],
           [
            0.25,
            "rgb(199,233,180)"
           ],
           [
            0.375,
            "rgb(127,205,187)"
           ],
           [
            0.5,
            "rgb(65,182,196)"
           ],
           [
            0.625,
            "rgb(29,145,192)"
           ],
           [
            0.75,
            "rgb(34,94,168)"
           ],
           [
            0.875,
            "rgb(37,52,148)"
           ],
           [
            1,
            "rgb(8,29,88)"
           ]
          ],
          "line": {
           "width": 2
          },
          "reversescale": true,
          "showscale": true,
          "size": 10
         },
         "mode": "markers",
         "text": [
          "label: 0# of connections: 5",
          "label: 1# of connections: 5",
          "label: 2# of connections: 4",
          "label: 3# of connections: 5",
          "label: 4# of connections: 8",
          "label: 5# of connections: 11",
          "label: 6# of connections: 7",
          "label: 7# of connections: 9",
          "label: 8# of connections: 5",
          "label: 9# of connections: 6",
          "label: 10# of connections: 9",
          "label: 11# of connections: 5",
          "label: 12# of connections: 5",
          "label: 13# of connections: 4",
          "label: 14# of connections: 6",
          "label: 15# of connections: 3",
          "label: 16# of connections: 6",
          "label: 17# of connections: 6",
          "label: 18# of connections: 9",
          "label: 19# of connections: 4",
          "label: 20# of connections: 9",
          "label: 21# of connections: 2",
          "label: 22# of connections: 5",
          "label: 23# of connections: 5",
          "label: 24# of connections: 5",
          "label: 25# of connections: 3",
          "label: 26# of connections: 3",
          "label: 27# of connections: 6",
          "label: 28# of connections: 2",
          "label: 29# of connections: 4",
          "label: 30# of connections: 2",
          "label: 31# of connections: 7",
          "label: 32# of connections: 10",
          "label: 33# of connections: 1",
          "label: 34# of connections: 4",
          "label: 35# of connections: 3",
          "label: 36# of connections: 2",
          "label: 37# of connections: 5",
          "label: 38# of connections: 3",
          "label: 39# of connections: 4",
          "label: 40# of connections: 2",
          "label: 41# of connections: 6",
          "label: 42# of connections: 3",
          "label: 43# of connections: 2",
          "label: 44# of connections: 6",
          "label: 45# of connections: 2",
          "label: 46# of connections: 2",
          "label: 47# of connections: 1",
          "label: 48# of connections: 2",
          "label: 49# of connections: 3",
          "label: 50# of connections: 5",
          "label: 51# of connections: 2",
          "label: 52# of connections: 3",
          "label: 53# of connections: 3",
          "label: 54# of connections: 3",
          "label: 55# of connections: 3",
          "label: 56# of connections: 3",
          "label: 57# of connections: 1",
          "label: 58# of connections: 1",
          "label: 59# of connections: 1",
          "label: 60# of connections: 4",
          "label: 61# of connections: 4",
          "label: 62# of connections: 4",
          "label: 63# of connections: 1",
          "label: 64# of connections: 1",
          "label: 65# of connections: 1",
          "label: 66# of connections: 1",
          "label: 67# of connections: 2",
          "label: 68# of connections: 1",
          "label: 69# of connections: 2",
          "label: 70# of connections: 1",
          "label: 71# of connections: 1",
          "label: 72# of connections: 1",
          "label: 73# of connections: 2",
          "label: 74# of connections: 2",
          "label: 75# of connections: 1",
          "label: 76# of connections: 1",
          "label: 77# of connections: 2",
          "label: 78# of connections: 1",
          "label: 79# of connections: 1",
          "label: 80# of connections: 3",
          "label: 81# of connections: 1",
          "label: 82# of connections: 1",
          "label: 83# of connections: 1",
          "label: 84# of connections: 1",
          "label: 85# of connections: 2",
          "label: 86# of connections: 2",
          "label: 87# of connections: 1",
          "label: 88# of connections: 1",
          "label: 89# of connections: 2",
          "label: 90# of connections: 1",
          "label: 91# of connections: 1",
          "label: 92# of connections: 1",
          "label: 93# of connections: 1",
          "label: 94# of connections: 1",
          "label: 95# of connections: 1",
          "label: 96# of connections: 1",
          "label: 97# of connections: 1",
          "label: 98# of connections: 1",
          "label: 99# of connections: 1",
          "label: 100# of connections: 1",
          "label: 101# of connections: 1",
          "label: 102# of connections: 1",
          "label: 103# of connections: 1",
          "label: 104# of connections: 1"
         ],
         "type": "scatter",
         "x": [
          0.20798101873201394,
          -0.4124192986126689,
          -0.7048195544405058,
          0.19539068210735816,
          -0.0426665800692302,
          -0.14654104390555323,
          0.23706934569376462,
          -0.2025172881568958,
          -0.0816730330093642,
          -0.015665474897773563,
          -0.048170275445117545,
          -0.5386744559243583,
          -0.09803916402613663,
          -0.1743275467305384,
          -0.22151202789235816,
          0.3121596823302963,
          0.31088281555835223,
          0.38654997421727116,
          -0.19884812947636618,
          0.10871897191045679,
          -0.06629473986154137,
          0.11776022274666312,
          -0.17034680661378224,
          -0.20392999760783823,
          0.0825063232688995,
          -0.30075847996075844,
          -0.5495284800087695,
          -0.14261277801836478,
          -0.6540750532924013,
          0.2887654472363952,
          -0.23878828974574895,
          -0.12907744222799936,
          0.03284325993016791,
          -0.6547645032879799,
          -0.057000315373923395,
          0.3180641800753631,
          0.08437856092682489,
          0.5084823734718775,
          -0.27947496911305153,
          0.22058171574304108,
          -0.1494689821816561,
          -0.013587661582829931,
          0.20359262564409425,
          0.40583535835691614,
          0.18582634393522993,
          -0.1951854304679918,
          -0.07045352041622101,
          0.4034753581851208,
          0.27233999774729356,
          0.04305753989023742,
          0.4034914935411667,
          0.0490650598043601,
          0.4434197978268344,
          -0.09615857830732892,
          0.0018899766466364946,
          0.2372487392703683,
          -0.32504214678788185,
          0.26834092377886204,
          -0.8245719592610832,
          0.5854566237292151,
          -0.6027680558888138,
          -0.0602922610045302,
          0.3115077569112719,
          0.34647716564376824,
          -0.023047419262504885,
          -0.28011229734108345,
          0.49682883620948565,
          0.3610852656022159,
          0.1693620390727424,
          0.27320338665116,
          -0.005736920165852203,
          0.5019707187439623,
          -0.11482191335906161,
          0.028747033591675165,
          0.30639267348716553,
          0.2766903440737011,
          -0.3301356858203611,
          0.10099685328810762,
          -0.6394474176318486,
          -0.3560360707788275,
          -0.0983247723891648,
          0.6137254970197535,
          -0.28225977885686215,
          -0.319560013783824,
          0.23334235113295662,
          -0.1491632213553842,
          0.40148077077631983,
          -0.710755910114834,
          -0.21778389132860257,
          0.3563312274131548,
          0.3357468726344626,
          0.5281654906281169,
          0.39008521744525204,
          0.14201980165198255,
          0.4844067806903,
          -0.4576275424028246,
          0.21431470323973104,
          0.038720092868684546,
          0.47179673557664975,
          -0.20648764296776825,
          0.47322746647785247,
          -0.5037243933560956,
          -0.25249829972245635,
          -0.4282706025070119,
          -0.7259513763938223
         ],
         "y": [
          -0.7136865536449006,
          -0.11716047897582825,
          0.24879122397868164,
          0.4302370610293883,
          0.16139328105846312,
          0.04994936425477325,
          -0.6754078533145259,
          0.10422686495590343,
          0.02058135781017936,
          0.07260319671663489,
          0.20023128381267546,
          0.21550390126376182,
          0.12894963580853946,
          0.13348222233412987,
          0.08147110927574724,
          -0.6296647884839743,
          -0.8034305548188951,
          0.547384846322291,
          -0.008909172563569942,
          -0.6741357973701968,
          0.08089454502481182,
          -0.014747939962111578,
          0.17741716089363116,
          0.021057988839162236,
          0.22966893799655136,
          0.08663414300158546,
          -0.22485438848918515,
          0.22359931712491468,
          0.26817358707078165,
          -0.7578437418023092,
          0.22424310204727696,
          0.09067425867829693,
          0.045738973111347274,
          0.20930588424946914,
          -0.7083583668541547,
          -0.47400231815544375,
          0.28394524967378115,
          0.5353366458211738,
          0.17916477528039354,
          0.1362658038578687,
          0.10163788595080787,
          0.19455765231694297,
          -0.06842376425797081,
          -0.2788561372510291,
          -0.5999092162131757,
          -0.775309697150487,
          0.2799676300589828,
          -0.8501317348803541,
          -0.8945463820836596,
          -0.0006141273975179129,
          0.6398570090846579,
          -0.6547708134786013,
          0.7663726039400931,
          0.20594194665734158,
          0.360016293573004,
          -0.5573211165891852,
          0.04955887092928985,
          -0.9999999999999999,
          0.27281644645296327,
          0.4521700078715138,
          -0.19824625856968306,
          0.11139448699350728,
          0.5510140164708397,
          -0.9197503368789876,
          -0.039918143292409725,
          -0.8473072833809326,
          0.599407717254181,
          0.7003611849124541,
          -0.025552974413830754,
          0.5798252278370855,
          0.4912944207634386,
          0.8668466499383012,
          -0.7924871683950594,
          0.16521760867004442,
          0.7329177959766386,
          0.6278238785425061,
          0.17363389894175474,
          -0.10806135427192609,
          -0.3140393141004004,
          0.03507131108098507,
          0.24918027767831627,
          0.49221884231941615,
          -0.0813109974899259,
          -0.006736880443729721,
          -0.42159702256761133,
          0.33143298854682607,
          0.13651584741457765,
          -0.2641824444944791,
          0.3513664023306426,
          -0.16426768913113918,
          0.15628922603138037,
          0.13778074476663285,
          -0.9020282982670377,
          -0.2199938823765482,
          -0.15116585684392717,
          0.03576135368696752,
          0.7794958138605158,
          0.26705274534734236,
          -0.2292106932153983,
          -0.13945545129303702,
          0.6354504255503028,
          -0.18099428347058066,
          -0.13460283969900294,
          0.1233868886994213,
          -0.21756770540916776
         ]
        }
       ],
       "layout": {
        "annotations": [
         {
          "showarrow": false,
          "text": "Python code: <a href='https://plotly.com/ipython-notebooks/network-graphs/'> https://plotly.com/ipython-notebooks/network-graphs/</a>",
          "x": 0.005,
          "xref": "paper",
          "y": -0.002,
          "yref": "paper"
         }
        ],
        "hovermode": "closest",
        "margin": {
         "b": 20,
         "l": 5,
         "r": 5,
         "t": 40
        },
        "showlegend": false,
        "template": {
         "data": {
          "bar": [
           {
            "error_x": {
             "color": "#2a3f5f"
            },
            "error_y": {
             "color": "#2a3f5f"
            },
            "marker": {
             "line": {
              "color": "#E5ECF6",
              "width": 0.5
             },
             "pattern": {
              "fillmode": "overlay",
              "size": 10,
              "solidity": 0.2
             }
            },
            "type": "bar"
           }
          ],
          "barpolar": [
           {
            "marker": {
             "line": {
              "color": "#E5ECF6",
              "width": 0.5
             },
             "pattern": {
              "fillmode": "overlay",
              "size": 10,
              "solidity": 0.2
             }
            },
            "type": "barpolar"
           }
          ],
          "carpet": [
           {
            "aaxis": {
             "endlinecolor": "#2a3f5f",
             "gridcolor": "white",
             "linecolor": "white",
             "minorgridcolor": "white",
             "startlinecolor": "#2a3f5f"
            },
            "baxis": {
             "endlinecolor": "#2a3f5f",
             "gridcolor": "white",
             "linecolor": "white",
             "minorgridcolor": "white",
             "startlinecolor": "#2a3f5f"
            },
            "type": "carpet"
           }
          ],
          "choropleth": [
           {
            "colorbar": {
             "outlinewidth": 0,
             "ticks": ""
            },
            "type": "choropleth"
           }
          ],
          "contour": [
           {
            "colorbar": {
             "outlinewidth": 0,
             "ticks": ""
            },
            "colorscale": [
             [
              0,
              "#0d0887"
             ],
             [
              0.1111111111111111,
              "#46039f"
             ],
             [
              0.2222222222222222,
              "#7201a8"
             ],
             [
              0.3333333333333333,
              "#9c179e"
             ],
             [
              0.4444444444444444,
              "#bd3786"
             ],
             [
              0.5555555555555556,
              "#d8576b"
             ],
             [
              0.6666666666666666,
              "#ed7953"
             ],
             [
              0.7777777777777778,
              "#fb9f3a"
             ],
             [
              0.8888888888888888,
              "#fdca26"
             ],
             [
              1,
              "#f0f921"
             ]
            ],
            "type": "contour"
           }
          ],
          "contourcarpet": [
           {
            "colorbar": {
             "outlinewidth": 0,
             "ticks": ""
            },
            "type": "contourcarpet"
           }
          ],
          "heatmap": [
           {
            "colorbar": {
             "outlinewidth": 0,
             "ticks": ""
            },
            "colorscale": [
             [
              0,
              "#0d0887"
             ],
             [
              0.1111111111111111,
              "#46039f"
             ],
             [
              0.2222222222222222,
              "#7201a8"
             ],
             [
              0.3333333333333333,
              "#9c179e"
             ],
             [
              0.4444444444444444,
              "#bd3786"
             ],
             [
              0.5555555555555556,
              "#d8576b"
             ],
             [
              0.6666666666666666,
              "#ed7953"
             ],
             [
              0.7777777777777778,
              "#fb9f3a"
             ],
             [
              0.8888888888888888,
              "#fdca26"
             ],
             [
              1,
              "#f0f921"
             ]
            ],
            "type": "heatmap"
           }
          ],
          "heatmapgl": [
           {
            "colorbar": {
             "outlinewidth": 0,
             "ticks": ""
            },
            "colorscale": [
             [
              0,
              "#0d0887"
             ],
             [
              0.1111111111111111,
              "#46039f"
             ],
             [
              0.2222222222222222,
              "#7201a8"
             ],
             [
              0.3333333333333333,
              "#9c179e"
             ],
             [
              0.4444444444444444,
              "#bd3786"
             ],
             [
              0.5555555555555556,
              "#d8576b"
             ],
             [
              0.6666666666666666,
              "#ed7953"
             ],
             [
              0.7777777777777778,
              "#fb9f3a"
             ],
             [
              0.8888888888888888,
              "#fdca26"
             ],
             [
              1,
              "#f0f921"
             ]
            ],
            "type": "heatmapgl"
           }
          ],
          "histogram": [
           {
            "marker": {
             "pattern": {
              "fillmode": "overlay",
              "size": 10,
              "solidity": 0.2
             }
            },
            "type": "histogram"
           }
          ],
          "histogram2d": [
           {
            "colorbar": {
             "outlinewidth": 0,
             "ticks": ""
            },
            "colorscale": [
             [
              0,
              "#0d0887"
             ],
             [
              0.1111111111111111,
              "#46039f"
             ],
             [
              0.2222222222222222,
              "#7201a8"
             ],
             [
              0.3333333333333333,
              "#9c179e"
             ],
             [
              0.4444444444444444,
              "#bd3786"
             ],
             [
              0.5555555555555556,
              "#d8576b"
             ],
             [
              0.6666666666666666,
              "#ed7953"
             ],
             [
              0.7777777777777778,
              "#fb9f3a"
             ],
             [
              0.8888888888888888,
              "#fdca26"
             ],
             [
              1,
              "#f0f921"
             ]
            ],
            "type": "histogram2d"
           }
          ],
          "histogram2dcontour": [
           {
            "colorbar": {
             "outlinewidth": 0,
             "ticks": ""
            },
            "colorscale": [
             [
              0,
              "#0d0887"
             ],
             [
              0.1111111111111111,
              "#46039f"
             ],
             [
              0.2222222222222222,
              "#7201a8"
             ],
             [
              0.3333333333333333,
              "#9c179e"
             ],
             [
              0.4444444444444444,
              "#bd3786"
             ],
             [
              0.5555555555555556,
              "#d8576b"
             ],
             [
              0.6666666666666666,
              "#ed7953"
             ],
             [
              0.7777777777777778,
              "#fb9f3a"
             ],
             [
              0.8888888888888888,
              "#fdca26"
             ],
             [
              1,
              "#f0f921"
             ]
            ],
            "type": "histogram2dcontour"
           }
          ],
          "mesh3d": [
           {
            "colorbar": {
             "outlinewidth": 0,
             "ticks": ""
            },
            "type": "mesh3d"
           }
          ],
          "parcoords": [
           {
            "line": {
             "colorbar": {
              "outlinewidth": 0,
              "ticks": ""
             }
            },
            "type": "parcoords"
           }
          ],
          "pie": [
           {
            "automargin": true,
            "type": "pie"
           }
          ],
          "scatter": [
           {
            "marker": {
             "colorbar": {
              "outlinewidth": 0,
              "ticks": ""
             }
            },
            "type": "scatter"
           }
          ],
          "scatter3d": [
           {
            "line": {
             "colorbar": {
              "outlinewidth": 0,
              "ticks": ""
             }
            },
            "marker": {
             "colorbar": {
              "outlinewidth": 0,
              "ticks": ""
             }
            },
            "type": "scatter3d"
           }
          ],
          "scattercarpet": [
           {
            "marker": {
             "colorbar": {
              "outlinewidth": 0,
              "ticks": ""
             }
            },
            "type": "scattercarpet"
           }
          ],
          "scattergeo": [
           {
            "marker": {
             "colorbar": {
              "outlinewidth": 0,
              "ticks": ""
             }
            },
            "type": "scattergeo"
           }
          ],
          "scattergl": [
           {
            "marker": {
             "colorbar": {
              "outlinewidth": 0,
              "ticks": ""
             }
            },
            "type": "scattergl"
           }
          ],
          "scattermapbox": [
           {
            "marker": {
             "colorbar": {
              "outlinewidth": 0,
              "ticks": ""
             }
            },
            "type": "scattermapbox"
           }
          ],
          "scatterpolar": [
           {
            "marker": {
             "colorbar": {
              "outlinewidth": 0,
              "ticks": ""
             }
            },
            "type": "scatterpolar"
           }
          ],
          "scatterpolargl": [
           {
            "marker": {
             "colorbar": {
              "outlinewidth": 0,
              "ticks": ""
             }
            },
            "type": "scatterpolargl"
           }
          ],
          "scatterternary": [
           {
            "marker": {
             "colorbar": {
              "outlinewidth": 0,
              "ticks": ""
             }
            },
            "type": "scatterternary"
           }
          ],
          "surface": [
           {
            "colorbar": {
             "outlinewidth": 0,
             "ticks": ""
            },
            "colorscale": [
             [
              0,
              "#0d0887"
             ],
             [
              0.1111111111111111,
              "#46039f"
             ],
             [
              0.2222222222222222,
              "#7201a8"
             ],
             [
              0.3333333333333333,
              "#9c179e"
             ],
             [
              0.4444444444444444,
              "#bd3786"
             ],
             [
              0.5555555555555556,
              "#d8576b"
             ],
             [
              0.6666666666666666,
              "#ed7953"
             ],
             [
              0.7777777777777778,
              "#fb9f3a"
             ],
             [
              0.8888888888888888,
              "#fdca26"
             ],
             [
              1,
              "#f0f921"
             ]
            ],
            "type": "surface"
           }
          ],
          "table": [
           {
            "cells": {
             "fill": {
              "color": "#EBF0F8"
             },
             "line": {
              "color": "white"
             }
            },
            "header": {
             "fill": {
              "color": "#C8D4E3"
             },
             "line": {
              "color": "white"
             }
            },
            "type": "table"
           }
          ]
         },
         "layout": {
          "annotationdefaults": {
           "arrowcolor": "#2a3f5f",
           "arrowhead": 0,
           "arrowwidth": 1
          },
          "autotypenumbers": "strict",
          "coloraxis": {
           "colorbar": {
            "outlinewidth": 0,
            "ticks": ""
           }
          },
          "colorscale": {
           "diverging": [
            [
             0,
             "#8e0152"
            ],
            [
             0.1,
             "#c51b7d"
            ],
            [
             0.2,
             "#de77ae"
            ],
            [
             0.3,
             "#f1b6da"
            ],
            [
             0.4,
             "#fde0ef"
            ],
            [
             0.5,
             "#f7f7f7"
            ],
            [
             0.6,
             "#e6f5d0"
            ],
            [
             0.7,
             "#b8e186"
            ],
            [
             0.8,
             "#7fbc41"
            ],
            [
             0.9,
             "#4d9221"
            ],
            [
             1,
             "#276419"
            ]
           ],
           "sequential": [
            [
             0,
             "#0d0887"
            ],
            [
             0.1111111111111111,
             "#46039f"
            ],
            [
             0.2222222222222222,
             "#7201a8"
            ],
            [
             0.3333333333333333,
             "#9c179e"
            ],
            [
             0.4444444444444444,
             "#bd3786"
            ],
            [
             0.5555555555555556,
             "#d8576b"
            ],
            [
             0.6666666666666666,
             "#ed7953"
            ],
            [
             0.7777777777777778,
             "#fb9f3a"
            ],
            [
             0.8888888888888888,
             "#fdca26"
            ],
            [
             1,
             "#f0f921"
            ]
           ],
           "sequentialminus": [
            [
             0,
             "#0d0887"
            ],
            [
             0.1111111111111111,
             "#46039f"
            ],
            [
             0.2222222222222222,
             "#7201a8"
            ],
            [
             0.3333333333333333,
             "#9c179e"
            ],
            [
             0.4444444444444444,
             "#bd3786"
            ],
            [
             0.5555555555555556,
             "#d8576b"
            ],
            [
             0.6666666666666666,
             "#ed7953"
            ],
            [
             0.7777777777777778,
             "#fb9f3a"
            ],
            [
             0.8888888888888888,
             "#fdca26"
            ],
            [
             1,
             "#f0f921"
            ]
           ]
          },
          "colorway": [
           "#636efa",
           "#EF553B",
           "#00cc96",
           "#ab63fa",
           "#FFA15A",
           "#19d3f3",
           "#FF6692",
           "#B6E880",
           "#FF97FF",
           "#FECB52"
          ],
          "font": {
           "color": "#2a3f5f"
          },
          "geo": {
           "bgcolor": "white",
           "lakecolor": "white",
           "landcolor": "#E5ECF6",
           "showlakes": true,
           "showland": true,
           "subunitcolor": "white"
          },
          "hoverlabel": {
           "align": "left"
          },
          "hovermode": "closest",
          "mapbox": {
           "style": "light"
          },
          "paper_bgcolor": "white",
          "plot_bgcolor": "#E5ECF6",
          "polar": {
           "angularaxis": {
            "gridcolor": "white",
            "linecolor": "white",
            "ticks": ""
           },
           "bgcolor": "#E5ECF6",
           "radialaxis": {
            "gridcolor": "white",
            "linecolor": "white",
            "ticks": ""
           }
          },
          "scene": {
           "xaxis": {
            "backgroundcolor": "#E5ECF6",
            "gridcolor": "white",
            "gridwidth": 2,
            "linecolor": "white",
            "showbackground": true,
            "ticks": "",
            "zerolinecolor": "white"
           },
           "yaxis": {
            "backgroundcolor": "#E5ECF6",
            "gridcolor": "white",
            "gridwidth": 2,
            "linecolor": "white",
            "showbackground": true,
            "ticks": "",
            "zerolinecolor": "white"
           },
           "zaxis": {
            "backgroundcolor": "#E5ECF6",
            "gridcolor": "white",
            "gridwidth": 2,
            "linecolor": "white",
            "showbackground": true,
            "ticks": "",
            "zerolinecolor": "white"
           }
          },
          "shapedefaults": {
           "line": {
            "color": "#2a3f5f"
           }
          },
          "ternary": {
           "aaxis": {
            "gridcolor": "white",
            "linecolor": "white",
            "ticks": ""
           },
           "baxis": {
            "gridcolor": "white",
            "linecolor": "white",
            "ticks": ""
           },
           "bgcolor": "#E5ECF6",
           "caxis": {
            "gridcolor": "white",
            "linecolor": "white",
            "ticks": ""
           }
          },
          "title": {
           "x": 0.05
          },
          "xaxis": {
           "automargin": true,
           "gridcolor": "white",
           "linecolor": "white",
           "ticks": "",
           "title": {
            "standoff": 15
           },
           "zerolinecolor": "white",
           "zerolinewidth": 2
          },
          "yaxis": {
           "automargin": true,
           "gridcolor": "white",
           "linecolor": "white",
           "ticks": "",
           "title": {
            "standoff": 15
           },
           "zerolinecolor": "white",
           "zerolinewidth": 2
          }
         }
        },
        "title": {
         "font": {
          "size": 16
         },
         "text": "<br>Network graph made with Python"
        },
        "xaxis": {
         "showgrid": false,
         "showticklabels": false,
         "zeroline": false
        },
        "yaxis": {
         "showgrid": false,
         "showticklabels": false,
         "zeroline": false
        }
       }
      },
      "text/html": [
       "<div>                            <div id=\"71606237-e661-4f5d-8192-59e8e76e49a2\" class=\"plotly-graph-div\" style=\"height:525px; width:100%;\"></div>            <script type=\"text/javascript\">                require([\"plotly\"], function(Plotly) {                    window.PLOTLYENV=window.PLOTLYENV || {};                                    if (document.getElementById(\"71606237-e661-4f5d-8192-59e8e76e49a2\")) {                    Plotly.newPlot(                        \"71606237-e661-4f5d-8192-59e8e76e49a2\",                        [{\"hoverinfo\":\"none\",\"line\":{\"color\":\"#888\",\"width\":0.5},\"mode\":\"lines\",\"type\":\"scatter\",\"x\":[0.20798101873201394,0.23706934569376462,null,0.20798101873201394,0.31088281555835223,null,0.20798101873201394,0.10871897191045679,null,0.20798101873201394,0.20798101873201394,null,0.20798101873201394,0.18582634393522993,null,-0.4124192986126689,-0.4124192986126689,null,-0.4124192986126689,-0.14654104390555323,null,-0.4124192986126689,-0.5495284800087695,null,-0.4124192986126689,-0.6027680558888138,null,-0.4124192986126689,-0.5037243933560956,null,-0.7048195544405058,-0.5386744559243583,null,-0.7048195544405058,-0.7048195544405058,null,-0.7048195544405058,-0.8245719592610832,null,-0.7048195544405058,-0.6540750532924013,null,0.19539068210735816,0.19539068210735816,null,0.19539068210735816,0.38654997421727116,null,0.19539068210735816,-0.048170275445117545,null,0.19539068210735816,0.27320338665116,null,0.19539068210735816,0.3115077569112719,null,-0.0426665800692302,-0.14654104390555323,null,-0.0426665800692302,-0.0426665800692302,null,-0.0426665800692302,-0.015665474897773563,null,-0.0426665800692302,-0.09803916402613663,null,-0.0426665800692302,0.0825063232688995,null,-0.0426665800692302,-0.07045352041622101,null,-0.0426665800692302,-0.09615857830732892,null,-0.0426665800692302,-0.0602922610045302,null,-0.14654104390555323,-0.14654104390555323,null,-0.14654104390555323,-0.2025172881568958,null,-0.14654104390555323,-0.0816730330093642,null,-0.14654104390555323,-0.015665474897773563,null,-0.14654104390555323,-0.19884812947636618,null,-0.14654104390555323,-0.06629473986154137,null,-0.14654104390555323,0.03284325993016791,null,-0.14654104390555323,-0.09803916402613663,null,-0.14654104390555323,-0.0983247723891648,null,0.23706934569376462,0.3121596823302963,null,0.23706934569376462,0.10871897191045679,null,0.23706934569376462,0.18582634393522993,null,0.23706934569376462,0.2372487392703683,null,0.23706934569376462,0.31088281555835223,null,0.23706934569376462,0.2887654472363952,null,-0.2025172881568958,-0.09803916402613663,null,-0.2025172881568958,-0.19884812947636618,null,-0.2025172881568958,-0.14261277801836478,null,-0.2025172881568958,-0.06629473986154137,null,-0.2025172881568958,-0.32504214678788185,null,-0.2025172881568958,-0.3301356858203611,null,-0.2025172881568958,-0.22151202789235816,null,-0.2025172881568958,-0.1494689821816561,null,-0.0816730330093642,-0.1743275467305384,null,-0.0816730330093642,0.04305753989023742,null,-0.0816730330093642,-0.19884812947636618,null,-0.0816730330093642,0.03284325993016791,null,-0.015665474897773563,-0.048170275445117545,null,-0.015665474897773563,0.11776022274666312,null,-0.015665474897773563,-0.12907744222799936,null,-0.015665474897773563,0.03284325993016791,null,-0.048170275445117545,-0.22151202789235816,null,-0.048170275445117545,-0.17034680661378224,null,-0.048170275445117545,-0.1743275467305384,null,-0.048170275445117545,0.03284325993016791,null,-0.048170275445117545,-0.27947496911305153,null,-0.048170275445117545,0.028747033591675165,null,-0.048170275445117545,0.038720092868684546,null,-0.5386744559243583,-0.6540750532924013,null,-0.5386744559243583,-0.6547645032879799,null,-0.5386744559243583,-0.5386744559243583,null,-0.5386744559243583,-0.27947496911305153,null,-0.09803916402613663,-0.06629473986154137,null,-0.09803916402613663,-0.013587661582829931,null,-0.1743275467305384,-0.23878828974574895,null,-0.1743275467305384,-0.30075847996075844,null,-0.22151202789235816,-0.17034680661378224,null,-0.22151202789235816,-0.3560360707788275,null,-0.22151202789235816,-0.19884812947636618,null,-0.22151202789235816,-0.319560013783824,null,0.3121596823302963,0.2887654472363952,null,0.3121596823302963,0.3180641800753631,null,0.31088281555835223,0.4034753581851208,null,0.31088281555835223,0.2887654472363952,null,0.31088281555835223,0.34647716564376824,null,0.31088281555835223,0.39008521744525204,null,0.38654997421727116,0.5084823734718775,null,0.38654997421727116,0.4034914935411667,null,0.38654997421727116,0.49682883620948565,null,0.38654997421727116,0.3115077569112719,null,0.38654997421727116,0.47322746647785247,null,-0.19884812947636618,-0.20392999760783823,null,-0.19884812947636618,-0.30075847996075844,null,-0.19884812947636618,-0.12907744222799936,null,-0.19884812947636618,-0.20648764296776825,null,-0.19884812947636618,-0.25249829972245635,null,0.10871897191045679,-0.057000315373923395,null,0.10871897191045679,0.18582634393522993,null,-0.06629473986154137,0.03284325993016791,null,-0.06629473986154137,-0.14261277801836478,null,-0.06629473986154137,-0.1494689821816561,null,-0.06629473986154137,-0.013587661582829931,null,-0.06629473986154137,-0.023047419262504885,null,-0.06629473986154137,0.04305753989023742,null,0.11776022274666312,0.20359262564409425,null,-0.17034680661378224,-0.14261277801836478,null,-0.17034680661378224,-0.12907744222799936,null,-0.17034680661378224,-0.23878828974574895,null,-0.20392999760783823,-0.32504214678788185,null,-0.20392999760783823,-0.0602922610045302,null,-0.20392999760783823,-0.28225977885686215,null,-0.20392999760783823,-0.12907744222799936,null,0.0825063232688995,0.08437856092682489,null,0.0825063232688995,0.22058171574304108,null,0.0825063232688995,-0.013587661582829931,null,0.0825063232688995,0.0018899766466364946,null,-0.30075847996075844,-0.4282706025070119,null,-0.5495284800087695,-0.6027680558888138,null,-0.5495284800087695,-0.6394474176318486,null,-0.14261277801836478,-0.013587661582829931,null,-0.14261277801836478,-0.1491632213553842,null,-0.14261277801836478,-0.21778389132860257,null,0.2887654472363952,0.27233999774729356,null,-0.12907744222799936,-0.27947496911305153,null,-0.12907744222799936,-0.09615857830732892,null,-0.12907744222799936,0.03284325993016791,null,0.03284325993016791,0.03284325993016791,null,0.03284325993016791,0.22058171574304108,null,0.03284325993016791,0.10099685328810762,null,0.03284325993016791,0.20359262564409425,null,-0.057000315373923395,-0.1951854304679918,null,-0.057000315373923395,0.0490650598043601,null,-0.057000315373923395,-0.11482191335906161,null,0.3180641800753631,0.40583535835691614,null,0.3180641800753631,0.18582634393522993,null,0.08437856092682489,-0.013587661582829931,null,0.5084823734718775,0.5854566237292151,null,0.5084823734718775,0.5084823734718775,null,0.5084823734718775,0.4034914935411667,null,0.5084823734718775,0.6137254970197535,null,0.22058171574304108,0.40148077077631983,null,0.22058171574304108,0.3357468726344626,null,-0.013587661582829931,-0.0602922610045302,null,0.20359262564409425,0.3563312274131548,null,0.40583535835691614,0.4844067806903,null,0.18582634393522993,0.2372487392703683,null,0.18582634393522993,0.0490650598043601,null,-0.1951854304679918,-0.28011229734108345,null,-0.07045352041622101,-0.09615857830732892,null,0.27233999774729356,0.26834092377886204,null,0.04305753989023742,0.1693620390727424,null,0.4034914935411667,0.4434197978268344,null,0.4034914935411667,0.3115077569112719,null,0.4034914935411667,0.30639267348716553,null,0.4434197978268344,0.3610852656022159,null,0.4434197978268344,0.5019707187439623,null,0.0018899766466364946,-0.005736920165852203,null,0.0018899766466364946,-0.0983247723891648,null,0.2372487392703683,0.23334235113295662,null,-0.32504214678788185,-0.4576275424028246,null,-0.6027680558888138,-0.710755910114834,null,-0.6027680558888138,-0.7259513763938223,null,-0.0602922610045302,0.028747033591675165,null,0.3115077569112719,0.2766903440737011,null,0.3610852656022159,0.27320338665116,null,0.30639267348716553,0.21431470323973104,null,0.10099685328810762,0.14201980165198255,null,-0.0983247723891648,-0.1491632213553842,null,0.40148077077631983,0.5281654906281169,null,0.3563312274131548,0.47179673557664975,null],\"y\":[-0.7136865536449006,-0.6754078533145259,null,-0.7136865536449006,-0.8034305548188951,null,-0.7136865536449006,-0.6741357973701968,null,-0.7136865536449006,-0.7136865536449006,null,-0.7136865536449006,-0.5999092162131757,null,-0.11716047897582825,-0.11716047897582825,null,-0.11716047897582825,0.04994936425477325,null,-0.11716047897582825,-0.22485438848918515,null,-0.11716047897582825,-0.19824625856968306,null,-0.11716047897582825,-0.18099428347058066,null,0.24879122397868164,0.21550390126376182,null,0.24879122397868164,0.24879122397868164,null,0.24879122397868164,0.27281644645296327,null,0.24879122397868164,0.26817358707078165,null,0.4302370610293883,0.4302370610293883,null,0.4302370610293883,0.547384846322291,null,0.4302370610293883,0.20023128381267546,null,0.4302370610293883,0.5798252278370855,null,0.4302370610293883,0.5510140164708397,null,0.16139328105846312,0.04994936425477325,null,0.16139328105846312,0.16139328105846312,null,0.16139328105846312,0.07260319671663489,null,0.16139328105846312,0.12894963580853946,null,0.16139328105846312,0.22966893799655136,null,0.16139328105846312,0.2799676300589828,null,0.16139328105846312,0.20594194665734158,null,0.16139328105846312,0.11139448699350728,null,0.04994936425477325,0.04994936425477325,null,0.04994936425477325,0.10422686495590343,null,0.04994936425477325,0.02058135781017936,null,0.04994936425477325,0.07260319671663489,null,0.04994936425477325,-0.008909172563569942,null,0.04994936425477325,0.08089454502481182,null,0.04994936425477325,0.045738973111347274,null,0.04994936425477325,0.12894963580853946,null,0.04994936425477325,0.24918027767831627,null,-0.6754078533145259,-0.6296647884839743,null,-0.6754078533145259,-0.6741357973701968,null,-0.6754078533145259,-0.5999092162131757,null,-0.6754078533145259,-0.5573211165891852,null,-0.6754078533145259,-0.8034305548188951,null,-0.6754078533145259,-0.7578437418023092,null,0.10422686495590343,0.12894963580853946,null,0.10422686495590343,-0.008909172563569942,null,0.10422686495590343,0.22359931712491468,null,0.10422686495590343,0.08089454502481182,null,0.10422686495590343,0.04955887092928985,null,0.10422686495590343,0.17363389894175474,null,0.10422686495590343,0.08147110927574724,null,0.10422686495590343,0.10163788595080787,null,0.02058135781017936,0.13348222233412987,null,0.02058135781017936,-0.0006141273975179129,null,0.02058135781017936,-0.008909172563569942,null,0.02058135781017936,0.045738973111347274,null,0.07260319671663489,0.20023128381267546,null,0.07260319671663489,-0.014747939962111578,null,0.07260319671663489,0.09067425867829693,null,0.07260319671663489,0.045738973111347274,null,0.20023128381267546,0.08147110927574724,null,0.20023128381267546,0.17741716089363116,null,0.20023128381267546,0.13348222233412987,null,0.20023128381267546,0.045738973111347274,null,0.20023128381267546,0.17916477528039354,null,0.20023128381267546,0.16521760867004442,null,0.20023128381267546,0.26705274534734236,null,0.21550390126376182,0.26817358707078165,null,0.21550390126376182,0.20930588424946914,null,0.21550390126376182,0.21550390126376182,null,0.21550390126376182,0.17916477528039354,null,0.12894963580853946,0.08089454502481182,null,0.12894963580853946,0.19455765231694297,null,0.13348222233412987,0.22424310204727696,null,0.13348222233412987,0.08663414300158546,null,0.08147110927574724,0.17741716089363116,null,0.08147110927574724,0.03507131108098507,null,0.08147110927574724,-0.008909172563569942,null,0.08147110927574724,-0.006736880443729721,null,-0.6296647884839743,-0.7578437418023092,null,-0.6296647884839743,-0.47400231815544375,null,-0.8034305548188951,-0.8501317348803541,null,-0.8034305548188951,-0.7578437418023092,null,-0.8034305548188951,-0.9197503368789876,null,-0.8034305548188951,-0.9020282982670377,null,0.547384846322291,0.5353366458211738,null,0.547384846322291,0.6398570090846579,null,0.547384846322291,0.599407717254181,null,0.547384846322291,0.5510140164708397,null,0.547384846322291,0.6354504255503028,null,-0.008909172563569942,0.021057988839162236,null,-0.008909172563569942,0.08663414300158546,null,-0.008909172563569942,0.09067425867829693,null,-0.008909172563569942,-0.13945545129303702,null,-0.008909172563569942,-0.13460283969900294,null,-0.6741357973701968,-0.7083583668541547,null,-0.6741357973701968,-0.5999092162131757,null,0.08089454502481182,0.045738973111347274,null,0.08089454502481182,0.22359931712491468,null,0.08089454502481182,0.10163788595080787,null,0.08089454502481182,0.19455765231694297,null,0.08089454502481182,-0.039918143292409725,null,0.08089454502481182,-0.0006141273975179129,null,-0.014747939962111578,-0.06842376425797081,null,0.17741716089363116,0.22359931712491468,null,0.17741716089363116,0.09067425867829693,null,0.17741716089363116,0.22424310204727696,null,0.021057988839162236,0.04955887092928985,null,0.021057988839162236,0.11139448699350728,null,0.021057988839162236,-0.0813109974899259,null,0.021057988839162236,0.09067425867829693,null,0.22966893799655136,0.28394524967378115,null,0.22966893799655136,0.1362658038578687,null,0.22966893799655136,0.19455765231694297,null,0.22966893799655136,0.360016293573004,null,0.08663414300158546,0.1233868886994213,null,-0.22485438848918515,-0.19824625856968306,null,-0.22485438848918515,-0.3140393141004004,null,0.22359931712491468,0.19455765231694297,null,0.22359931712491468,0.33143298854682607,null,0.22359931712491468,0.3513664023306426,null,-0.7578437418023092,-0.8945463820836596,null,0.09067425867829693,0.17916477528039354,null,0.09067425867829693,0.20594194665734158,null,0.09067425867829693,0.045738973111347274,null,0.045738973111347274,0.045738973111347274,null,0.045738973111347274,0.1362658038578687,null,0.045738973111347274,-0.10806135427192609,null,0.045738973111347274,-0.06842376425797081,null,-0.7083583668541547,-0.775309697150487,null,-0.7083583668541547,-0.6547708134786013,null,-0.7083583668541547,-0.7924871683950594,null,-0.47400231815544375,-0.2788561372510291,null,-0.47400231815544375,-0.5999092162131757,null,0.28394524967378115,0.19455765231694297,null,0.5353366458211738,0.4521700078715138,null,0.5353366458211738,0.5353366458211738,null,0.5353366458211738,0.6398570090846579,null,0.5353366458211738,0.49221884231941615,null,0.1362658038578687,0.13651584741457765,null,0.1362658038578687,0.15628922603138037,null,0.19455765231694297,0.11139448699350728,null,-0.06842376425797081,-0.16426768913113918,null,-0.2788561372510291,-0.15116585684392717,null,-0.5999092162131757,-0.5573211165891852,null,-0.5999092162131757,-0.6547708134786013,null,-0.775309697150487,-0.8473072833809326,null,0.2799676300589828,0.20594194665734158,null,-0.8945463820836596,-0.9999999999999999,null,-0.0006141273975179129,-0.025552974413830754,null,0.6398570090846579,0.7663726039400931,null,0.6398570090846579,0.5510140164708397,null,0.6398570090846579,0.7329177959766386,null,0.7663726039400931,0.7003611849124541,null,0.7663726039400931,0.8668466499383012,null,0.360016293573004,0.4912944207634386,null,0.360016293573004,0.24918027767831627,null,-0.5573211165891852,-0.42159702256761133,null,0.04955887092928985,0.03576135368696752,null,-0.19824625856968306,-0.2641824444944791,null,-0.19824625856968306,-0.21756770540916776,null,0.11139448699350728,0.16521760867004442,null,0.5510140164708397,0.6278238785425061,null,0.7003611849124541,0.5798252278370855,null,0.7329177959766386,0.7794958138605158,null,-0.10806135427192609,-0.2199938823765482,null,0.24918027767831627,0.33143298854682607,null,0.13651584741457765,0.13778074476663285,null,-0.16426768913113918,-0.2292106932153983,null]},{\"hoverinfo\":\"text\",\"marker\":{\"color\":[5,5,4,5,8,11,7,9,5,6,9,5,5,4,6,3,6,6,9,4,9,2,5,5,5,3,3,6,2,4,2,7,10,1,4,3,2,5,3,4,2,6,3,2,6,2,2,1,2,3,5,2,3,3,3,3,3,1,1,1,4,4,4,1,1,1,1,2,1,2,1,1,1,2,2,1,1,2,1,1,3,1,1,1,1,2,2,1,1,2,1,1,1,1,1,1,1,1,1,1,1,1,1,1,1],\"colorbar\":{\"thickness\":15,\"title\":{\"side\":\"right\",\"text\":\"Node Connections\"},\"xanchor\":\"left\"},\"colorscale\":[[0.0,\"rgb(255,255,217)\"],[0.125,\"rgb(237,248,177)\"],[0.25,\"rgb(199,233,180)\"],[0.375,\"rgb(127,205,187)\"],[0.5,\"rgb(65,182,196)\"],[0.625,\"rgb(29,145,192)\"],[0.75,\"rgb(34,94,168)\"],[0.875,\"rgb(37,52,148)\"],[1.0,\"rgb(8,29,88)\"]],\"line\":{\"width\":2},\"reversescale\":true,\"showscale\":true,\"size\":10},\"mode\":\"markers\",\"text\":[\"label: 0# of connections: 5\",\"label: 1# of connections: 5\",\"label: 2# of connections: 4\",\"label: 3# of connections: 5\",\"label: 4# of connections: 8\",\"label: 5# of connections: 11\",\"label: 6# of connections: 7\",\"label: 7# of connections: 9\",\"label: 8# of connections: 5\",\"label: 9# of connections: 6\",\"label: 10# of connections: 9\",\"label: 11# of connections: 5\",\"label: 12# of connections: 5\",\"label: 13# of connections: 4\",\"label: 14# of connections: 6\",\"label: 15# of connections: 3\",\"label: 16# of connections: 6\",\"label: 17# of connections: 6\",\"label: 18# of connections: 9\",\"label: 19# of connections: 4\",\"label: 20# of connections: 9\",\"label: 21# of connections: 2\",\"label: 22# of connections: 5\",\"label: 23# of connections: 5\",\"label: 24# of connections: 5\",\"label: 25# of connections: 3\",\"label: 26# of connections: 3\",\"label: 27# of connections: 6\",\"label: 28# of connections: 2\",\"label: 29# of connections: 4\",\"label: 30# of connections: 2\",\"label: 31# of connections: 7\",\"label: 32# of connections: 10\",\"label: 33# of connections: 1\",\"label: 34# of connections: 4\",\"label: 35# of connections: 3\",\"label: 36# of connections: 2\",\"label: 37# of connections: 5\",\"label: 38# of connections: 3\",\"label: 39# of connections: 4\",\"label: 40# of connections: 2\",\"label: 41# of connections: 6\",\"label: 42# of connections: 3\",\"label: 43# of connections: 2\",\"label: 44# of connections: 6\",\"label: 45# of connections: 2\",\"label: 46# of connections: 2\",\"label: 47# of connections: 1\",\"label: 48# of connections: 2\",\"label: 49# of connections: 3\",\"label: 50# of connections: 5\",\"label: 51# of connections: 2\",\"label: 52# of connections: 3\",\"label: 53# of connections: 3\",\"label: 54# of connections: 3\",\"label: 55# of connections: 3\",\"label: 56# of connections: 3\",\"label: 57# of connections: 1\",\"label: 58# of connections: 1\",\"label: 59# of connections: 1\",\"label: 60# of connections: 4\",\"label: 61# of connections: 4\",\"label: 62# of connections: 4\",\"label: 63# of connections: 1\",\"label: 64# of connections: 1\",\"label: 65# of connections: 1\",\"label: 66# of connections: 1\",\"label: 67# of connections: 2\",\"label: 68# of connections: 1\",\"label: 69# of connections: 2\",\"label: 70# of connections: 1\",\"label: 71# of connections: 1\",\"label: 72# of connections: 1\",\"label: 73# of connections: 2\",\"label: 74# of connections: 2\",\"label: 75# of connections: 1\",\"label: 76# of connections: 1\",\"label: 77# of connections: 2\",\"label: 78# of connections: 1\",\"label: 79# of connections: 1\",\"label: 80# of connections: 3\",\"label: 81# of connections: 1\",\"label: 82# of connections: 1\",\"label: 83# of connections: 1\",\"label: 84# of connections: 1\",\"label: 85# of connections: 2\",\"label: 86# of connections: 2\",\"label: 87# of connections: 1\",\"label: 88# of connections: 1\",\"label: 89# of connections: 2\",\"label: 90# of connections: 1\",\"label: 91# of connections: 1\",\"label: 92# of connections: 1\",\"label: 93# of connections: 1\",\"label: 94# of connections: 1\",\"label: 95# of connections: 1\",\"label: 96# of connections: 1\",\"label: 97# of connections: 1\",\"label: 98# of connections: 1\",\"label: 99# of connections: 1\",\"label: 100# of connections: 1\",\"label: 101# of connections: 1\",\"label: 102# of connections: 1\",\"label: 103# of connections: 1\",\"label: 104# of connections: 1\"],\"type\":\"scatter\",\"x\":[0.20798101873201394,-0.4124192986126689,-0.7048195544405058,0.19539068210735816,-0.0426665800692302,-0.14654104390555323,0.23706934569376462,-0.2025172881568958,-0.0816730330093642,-0.015665474897773563,-0.048170275445117545,-0.5386744559243583,-0.09803916402613663,-0.1743275467305384,-0.22151202789235816,0.3121596823302963,0.31088281555835223,0.38654997421727116,-0.19884812947636618,0.10871897191045679,-0.06629473986154137,0.11776022274666312,-0.17034680661378224,-0.20392999760783823,0.0825063232688995,-0.30075847996075844,-0.5495284800087695,-0.14261277801836478,-0.6540750532924013,0.2887654472363952,-0.23878828974574895,-0.12907744222799936,0.03284325993016791,-0.6547645032879799,-0.057000315373923395,0.3180641800753631,0.08437856092682489,0.5084823734718775,-0.27947496911305153,0.22058171574304108,-0.1494689821816561,-0.013587661582829931,0.20359262564409425,0.40583535835691614,0.18582634393522993,-0.1951854304679918,-0.07045352041622101,0.4034753581851208,0.27233999774729356,0.04305753989023742,0.4034914935411667,0.0490650598043601,0.4434197978268344,-0.09615857830732892,0.0018899766466364946,0.2372487392703683,-0.32504214678788185,0.26834092377886204,-0.8245719592610832,0.5854566237292151,-0.6027680558888138,-0.0602922610045302,0.3115077569112719,0.34647716564376824,-0.023047419262504885,-0.28011229734108345,0.49682883620948565,0.3610852656022159,0.1693620390727424,0.27320338665116,-0.005736920165852203,0.5019707187439623,-0.11482191335906161,0.028747033591675165,0.30639267348716553,0.2766903440737011,-0.3301356858203611,0.10099685328810762,-0.6394474176318486,-0.3560360707788275,-0.0983247723891648,0.6137254970197535,-0.28225977885686215,-0.319560013783824,0.23334235113295662,-0.1491632213553842,0.40148077077631983,-0.710755910114834,-0.21778389132860257,0.3563312274131548,0.3357468726344626,0.5281654906281169,0.39008521744525204,0.14201980165198255,0.4844067806903,-0.4576275424028246,0.21431470323973104,0.038720092868684546,0.47179673557664975,-0.20648764296776825,0.47322746647785247,-0.5037243933560956,-0.25249829972245635,-0.4282706025070119,-0.7259513763938223],\"y\":[-0.7136865536449006,-0.11716047897582825,0.24879122397868164,0.4302370610293883,0.16139328105846312,0.04994936425477325,-0.6754078533145259,0.10422686495590343,0.02058135781017936,0.07260319671663489,0.20023128381267546,0.21550390126376182,0.12894963580853946,0.13348222233412987,0.08147110927574724,-0.6296647884839743,-0.8034305548188951,0.547384846322291,-0.008909172563569942,-0.6741357973701968,0.08089454502481182,-0.014747939962111578,0.17741716089363116,0.021057988839162236,0.22966893799655136,0.08663414300158546,-0.22485438848918515,0.22359931712491468,0.26817358707078165,-0.7578437418023092,0.22424310204727696,0.09067425867829693,0.045738973111347274,0.20930588424946914,-0.7083583668541547,-0.47400231815544375,0.28394524967378115,0.5353366458211738,0.17916477528039354,0.1362658038578687,0.10163788595080787,0.19455765231694297,-0.06842376425797081,-0.2788561372510291,-0.5999092162131757,-0.775309697150487,0.2799676300589828,-0.8501317348803541,-0.8945463820836596,-0.0006141273975179129,0.6398570090846579,-0.6547708134786013,0.7663726039400931,0.20594194665734158,0.360016293573004,-0.5573211165891852,0.04955887092928985,-0.9999999999999999,0.27281644645296327,0.4521700078715138,-0.19824625856968306,0.11139448699350728,0.5510140164708397,-0.9197503368789876,-0.039918143292409725,-0.8473072833809326,0.599407717254181,0.7003611849124541,-0.025552974413830754,0.5798252278370855,0.4912944207634386,0.8668466499383012,-0.7924871683950594,0.16521760867004442,0.7329177959766386,0.6278238785425061,0.17363389894175474,-0.10806135427192609,-0.3140393141004004,0.03507131108098507,0.24918027767831627,0.49221884231941615,-0.0813109974899259,-0.006736880443729721,-0.42159702256761133,0.33143298854682607,0.13651584741457765,-0.2641824444944791,0.3513664023306426,-0.16426768913113918,0.15628922603138037,0.13778074476663285,-0.9020282982670377,-0.2199938823765482,-0.15116585684392717,0.03576135368696752,0.7794958138605158,0.26705274534734236,-0.2292106932153983,-0.13945545129303702,0.6354504255503028,-0.18099428347058066,-0.13460283969900294,0.1233868886994213,-0.21756770540916776]}],                        {\"annotations\":[{\"showarrow\":false,\"text\":\"Python code: <a href='https://plotly.com/ipython-notebooks/network-graphs/'> https://plotly.com/ipython-notebooks/network-graphs/</a>\",\"x\":0.005,\"xref\":\"paper\",\"y\":-0.002,\"yref\":\"paper\"}],\"hovermode\":\"closest\",\"margin\":{\"b\":20,\"l\":5,\"r\":5,\"t\":40},\"showlegend\":false,\"template\":{\"data\":{\"bar\":[{\"error_x\":{\"color\":\"#2a3f5f\"},\"error_y\":{\"color\":\"#2a3f5f\"},\"marker\":{\"line\":{\"color\":\"#E5ECF6\",\"width\":0.5},\"pattern\":{\"fillmode\":\"overlay\",\"size\":10,\"solidity\":0.2}},\"type\":\"bar\"}],\"barpolar\":[{\"marker\":{\"line\":{\"color\":\"#E5ECF6\",\"width\":0.5},\"pattern\":{\"fillmode\":\"overlay\",\"size\":10,\"solidity\":0.2}},\"type\":\"barpolar\"}],\"carpet\":[{\"aaxis\":{\"endlinecolor\":\"#2a3f5f\",\"gridcolor\":\"white\",\"linecolor\":\"white\",\"minorgridcolor\":\"white\",\"startlinecolor\":\"#2a3f5f\"},\"baxis\":{\"endlinecolor\":\"#2a3f5f\",\"gridcolor\":\"white\",\"linecolor\":\"white\",\"minorgridcolor\":\"white\",\"startlinecolor\":\"#2a3f5f\"},\"type\":\"carpet\"}],\"choropleth\":[{\"colorbar\":{\"outlinewidth\":0,\"ticks\":\"\"},\"type\":\"choropleth\"}],\"contour\":[{\"colorbar\":{\"outlinewidth\":0,\"ticks\":\"\"},\"colorscale\":[[0.0,\"#0d0887\"],[0.1111111111111111,\"#46039f\"],[0.2222222222222222,\"#7201a8\"],[0.3333333333333333,\"#9c179e\"],[0.4444444444444444,\"#bd3786\"],[0.5555555555555556,\"#d8576b\"],[0.6666666666666666,\"#ed7953\"],[0.7777777777777778,\"#fb9f3a\"],[0.8888888888888888,\"#fdca26\"],[1.0,\"#f0f921\"]],\"type\":\"contour\"}],\"contourcarpet\":[{\"colorbar\":{\"outlinewidth\":0,\"ticks\":\"\"},\"type\":\"contourcarpet\"}],\"heatmap\":[{\"colorbar\":{\"outlinewidth\":0,\"ticks\":\"\"},\"colorscale\":[[0.0,\"#0d0887\"],[0.1111111111111111,\"#46039f\"],[0.2222222222222222,\"#7201a8\"],[0.3333333333333333,\"#9c179e\"],[0.4444444444444444,\"#bd3786\"],[0.5555555555555556,\"#d8576b\"],[0.6666666666666666,\"#ed7953\"],[0.7777777777777778,\"#fb9f3a\"],[0.8888888888888888,\"#fdca26\"],[1.0,\"#f0f921\"]],\"type\":\"heatmap\"}],\"heatmapgl\":[{\"colorbar\":{\"outlinewidth\":0,\"ticks\":\"\"},\"colorscale\":[[0.0,\"#0d0887\"],[0.1111111111111111,\"#46039f\"],[0.2222222222222222,\"#7201a8\"],[0.3333333333333333,\"#9c179e\"],[0.4444444444444444,\"#bd3786\"],[0.5555555555555556,\"#d8576b\"],[0.6666666666666666,\"#ed7953\"],[0.7777777777777778,\"#fb9f3a\"],[0.8888888888888888,\"#fdca26\"],[1.0,\"#f0f921\"]],\"type\":\"heatmapgl\"}],\"histogram\":[{\"marker\":{\"pattern\":{\"fillmode\":\"overlay\",\"size\":10,\"solidity\":0.2}},\"type\":\"histogram\"}],\"histogram2d\":[{\"colorbar\":{\"outlinewidth\":0,\"ticks\":\"\"},\"colorscale\":[[0.0,\"#0d0887\"],[0.1111111111111111,\"#46039f\"],[0.2222222222222222,\"#7201a8\"],[0.3333333333333333,\"#9c179e\"],[0.4444444444444444,\"#bd3786\"],[0.5555555555555556,\"#d8576b\"],[0.6666666666666666,\"#ed7953\"],[0.7777777777777778,\"#fb9f3a\"],[0.8888888888888888,\"#fdca26\"],[1.0,\"#f0f921\"]],\"type\":\"histogram2d\"}],\"histogram2dcontour\":[{\"colorbar\":{\"outlinewidth\":0,\"ticks\":\"\"},\"colorscale\":[[0.0,\"#0d0887\"],[0.1111111111111111,\"#46039f\"],[0.2222222222222222,\"#7201a8\"],[0.3333333333333333,\"#9c179e\"],[0.4444444444444444,\"#bd3786\"],[0.5555555555555556,\"#d8576b\"],[0.6666666666666666,\"#ed7953\"],[0.7777777777777778,\"#fb9f3a\"],[0.8888888888888888,\"#fdca26\"],[1.0,\"#f0f921\"]],\"type\":\"histogram2dcontour\"}],\"mesh3d\":[{\"colorbar\":{\"outlinewidth\":0,\"ticks\":\"\"},\"type\":\"mesh3d\"}],\"parcoords\":[{\"line\":{\"colorbar\":{\"outlinewidth\":0,\"ticks\":\"\"}},\"type\":\"parcoords\"}],\"pie\":[{\"automargin\":true,\"type\":\"pie\"}],\"scatter\":[{\"marker\":{\"colorbar\":{\"outlinewidth\":0,\"ticks\":\"\"}},\"type\":\"scatter\"}],\"scatter3d\":[{\"line\":{\"colorbar\":{\"outlinewidth\":0,\"ticks\":\"\"}},\"marker\":{\"colorbar\":{\"outlinewidth\":0,\"ticks\":\"\"}},\"type\":\"scatter3d\"}],\"scattercarpet\":[{\"marker\":{\"colorbar\":{\"outlinewidth\":0,\"ticks\":\"\"}},\"type\":\"scattercarpet\"}],\"scattergeo\":[{\"marker\":{\"colorbar\":{\"outlinewidth\":0,\"ticks\":\"\"}},\"type\":\"scattergeo\"}],\"scattergl\":[{\"marker\":{\"colorbar\":{\"outlinewidth\":0,\"ticks\":\"\"}},\"type\":\"scattergl\"}],\"scattermapbox\":[{\"marker\":{\"colorbar\":{\"outlinewidth\":0,\"ticks\":\"\"}},\"type\":\"scattermapbox\"}],\"scatterpolar\":[{\"marker\":{\"colorbar\":{\"outlinewidth\":0,\"ticks\":\"\"}},\"type\":\"scatterpolar\"}],\"scatterpolargl\":[{\"marker\":{\"colorbar\":{\"outlinewidth\":0,\"ticks\":\"\"}},\"type\":\"scatterpolargl\"}],\"scatterternary\":[{\"marker\":{\"colorbar\":{\"outlinewidth\":0,\"ticks\":\"\"}},\"type\":\"scatterternary\"}],\"surface\":[{\"colorbar\":{\"outlinewidth\":0,\"ticks\":\"\"},\"colorscale\":[[0.0,\"#0d0887\"],[0.1111111111111111,\"#46039f\"],[0.2222222222222222,\"#7201a8\"],[0.3333333333333333,\"#9c179e\"],[0.4444444444444444,\"#bd3786\"],[0.5555555555555556,\"#d8576b\"],[0.6666666666666666,\"#ed7953\"],[0.7777777777777778,\"#fb9f3a\"],[0.8888888888888888,\"#fdca26\"],[1.0,\"#f0f921\"]],\"type\":\"surface\"}],\"table\":[{\"cells\":{\"fill\":{\"color\":\"#EBF0F8\"},\"line\":{\"color\":\"white\"}},\"header\":{\"fill\":{\"color\":\"#C8D4E3\"},\"line\":{\"color\":\"white\"}},\"type\":\"table\"}]},\"layout\":{\"annotationdefaults\":{\"arrowcolor\":\"#2a3f5f\",\"arrowhead\":0,\"arrowwidth\":1},\"autotypenumbers\":\"strict\",\"coloraxis\":{\"colorbar\":{\"outlinewidth\":0,\"ticks\":\"\"}},\"colorscale\":{\"diverging\":[[0,\"#8e0152\"],[0.1,\"#c51b7d\"],[0.2,\"#de77ae\"],[0.3,\"#f1b6da\"],[0.4,\"#fde0ef\"],[0.5,\"#f7f7f7\"],[0.6,\"#e6f5d0\"],[0.7,\"#b8e186\"],[0.8,\"#7fbc41\"],[0.9,\"#4d9221\"],[1,\"#276419\"]],\"sequential\":[[0.0,\"#0d0887\"],[0.1111111111111111,\"#46039f\"],[0.2222222222222222,\"#7201a8\"],[0.3333333333333333,\"#9c179e\"],[0.4444444444444444,\"#bd3786\"],[0.5555555555555556,\"#d8576b\"],[0.6666666666666666,\"#ed7953\"],[0.7777777777777778,\"#fb9f3a\"],[0.8888888888888888,\"#fdca26\"],[1.0,\"#f0f921\"]],\"sequentialminus\":[[0.0,\"#0d0887\"],[0.1111111111111111,\"#46039f\"],[0.2222222222222222,\"#7201a8\"],[0.3333333333333333,\"#9c179e\"],[0.4444444444444444,\"#bd3786\"],[0.5555555555555556,\"#d8576b\"],[0.6666666666666666,\"#ed7953\"],[0.7777777777777778,\"#fb9f3a\"],[0.8888888888888888,\"#fdca26\"],[1.0,\"#f0f921\"]]},\"colorway\":[\"#636efa\",\"#EF553B\",\"#00cc96\",\"#ab63fa\",\"#FFA15A\",\"#19d3f3\",\"#FF6692\",\"#B6E880\",\"#FF97FF\",\"#FECB52\"],\"font\":{\"color\":\"#2a3f5f\"},\"geo\":{\"bgcolor\":\"white\",\"lakecolor\":\"white\",\"landcolor\":\"#E5ECF6\",\"showlakes\":true,\"showland\":true,\"subunitcolor\":\"white\"},\"hoverlabel\":{\"align\":\"left\"},\"hovermode\":\"closest\",\"mapbox\":{\"style\":\"light\"},\"paper_bgcolor\":\"white\",\"plot_bgcolor\":\"#E5ECF6\",\"polar\":{\"angularaxis\":{\"gridcolor\":\"white\",\"linecolor\":\"white\",\"ticks\":\"\"},\"bgcolor\":\"#E5ECF6\",\"radialaxis\":{\"gridcolor\":\"white\",\"linecolor\":\"white\",\"ticks\":\"\"}},\"scene\":{\"xaxis\":{\"backgroundcolor\":\"#E5ECF6\",\"gridcolor\":\"white\",\"gridwidth\":2,\"linecolor\":\"white\",\"showbackground\":true,\"ticks\":\"\",\"zerolinecolor\":\"white\"},\"yaxis\":{\"backgroundcolor\":\"#E5ECF6\",\"gridcolor\":\"white\",\"gridwidth\":2,\"linecolor\":\"white\",\"showbackground\":true,\"ticks\":\"\",\"zerolinecolor\":\"white\"},\"zaxis\":{\"backgroundcolor\":\"#E5ECF6\",\"gridcolor\":\"white\",\"gridwidth\":2,\"linecolor\":\"white\",\"showbackground\":true,\"ticks\":\"\",\"zerolinecolor\":\"white\"}},\"shapedefaults\":{\"line\":{\"color\":\"#2a3f5f\"}},\"ternary\":{\"aaxis\":{\"gridcolor\":\"white\",\"linecolor\":\"white\",\"ticks\":\"\"},\"baxis\":{\"gridcolor\":\"white\",\"linecolor\":\"white\",\"ticks\":\"\"},\"bgcolor\":\"#E5ECF6\",\"caxis\":{\"gridcolor\":\"white\",\"linecolor\":\"white\",\"ticks\":\"\"}},\"title\":{\"x\":0.05},\"xaxis\":{\"automargin\":true,\"gridcolor\":\"white\",\"linecolor\":\"white\",\"ticks\":\"\",\"title\":{\"standoff\":15},\"zerolinecolor\":\"white\",\"zerolinewidth\":2},\"yaxis\":{\"automargin\":true,\"gridcolor\":\"white\",\"linecolor\":\"white\",\"ticks\":\"\",\"title\":{\"standoff\":15},\"zerolinecolor\":\"white\",\"zerolinewidth\":2}}},\"title\":{\"font\":{\"size\":16},\"text\":\"<br>Network graph made with Python\"},\"xaxis\":{\"showgrid\":false,\"showticklabels\":false,\"zeroline\":false},\"yaxis\":{\"showgrid\":false,\"showticklabels\":false,\"zeroline\":false}},                        {\"responsive\": true}                    ).then(function(){\n",
       "                            \n",
       "var gd = document.getElementById('71606237-e661-4f5d-8192-59e8e76e49a2');\n",
       "var x = new MutationObserver(function (mutations, observer) {{\n",
       "        var display = window.getComputedStyle(gd).display;\n",
       "        if (!display || display === 'none') {{\n",
       "            console.log([gd, 'removed!']);\n",
       "            Plotly.purge(gd);\n",
       "            observer.disconnect();\n",
       "        }}\n",
       "}});\n",
       "\n",
       "// Listen for the removal of the full notebook cells\n",
       "var notebookContainer = gd.closest('#notebook-container');\n",
       "if (notebookContainer) {{\n",
       "    x.observe(notebookContainer, {childList: true});\n",
       "}}\n",
       "\n",
       "// Listen for the clearing of the current output cell\n",
       "var outputEl = gd.closest('.output');\n",
       "if (outputEl) {{\n",
       "    x.observe(outputEl, {childList: true});\n",
       "}}\n",
       "\n",
       "                        })                };                });            </script>        </div>"
      ]
     },
     "metadata": {},
     "output_type": "display_data"
    }
   ],
   "source": [
    "do_plotly(G)"
   ]
  }
 ],
 "metadata": {
  "kernelspec": {
   "display_name": "Python 3",
   "language": "python",
   "name": "python3"
  },
  "language_info": {
   "codemirror_mode": {
    "name": "ipython",
    "version": 3
   },
   "file_extension": ".py",
   "mimetype": "text/x-python",
   "name": "python",
   "nbconvert_exporter": "python",
   "pygments_lexer": "ipython3",
   "version": "3.8.5"
  }
 },
 "nbformat": 4,
 "nbformat_minor": 4
}
